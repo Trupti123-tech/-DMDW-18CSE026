{
  "nbformat": 4,
  "nbformat_minor": 0,
  "metadata": {
    "colab": {
      "name": "18cse026.DMDW ASSIGNMENT 3",
      "provenance": [],
      "include_colab_link": true
    },
    "kernelspec": {
      "name": "python3",
      "display_name": "Python 3"
    }
  },
  "cells": [
    {
      "cell_type": "markdown",
      "metadata": {
        "id": "view-in-github",
        "colab_type": "text"
      },
      "source": [
        "<a href=\"https://colab.research.google.com/github/Trupti123-tech/-DMDW-18CSE026/blob/main/18cse026_DMDW_ASSIGNMENT_3.ipynb\" target=\"_parent\"><img src=\"https://colab.research.google.com/assets/colab-badge.svg\" alt=\"Open In Colab\"/></a>"
      ]
    },
    {
      "cell_type": "code",
      "metadata": {
        "id": "hDt5W20og_jJ"
      },
      "source": [
        "import pandas as pd\n",
        "import numpy as np\n",
        "import matplotlib.pyplot as plt"
      ],
      "execution_count": null,
      "outputs": []
    },
    {
      "cell_type": "code",
      "metadata": {
        "id": "D3NL8NwIhvat"
      },
      "source": [
        "path=\"https://raw.githubusercontent.com/Trupti123-tech/18CSE026_DMDW/main/covid_impact_on_airport_traffic.csv\""
      ],
      "execution_count": null,
      "outputs": []
    },
    {
      "cell_type": "code",
      "metadata": {
        "id": "8XncjFrqiZlu"
      },
      "source": [
        "data=pd.read_csv(path)"
      ],
      "execution_count": null,
      "outputs": []
    },
    {
      "cell_type": "code",
      "metadata": {
        "colab": {
          "base_uri": "https://localhost:8080/",
          "height": 771
        },
        "id": "gvueT2NZieI-",
        "outputId": "1fc4a414-d276-40db-c698-6330dc8dd2ae"
      },
      "source": [
        "data"
      ],
      "execution_count": null,
      "outputs": [
        {
          "output_type": "execute_result",
          "data": {
            "text/html": [
              "<div>\n",
              "<style scoped>\n",
              "    .dataframe tbody tr th:only-of-type {\n",
              "        vertical-align: middle;\n",
              "    }\n",
              "\n",
              "    .dataframe tbody tr th {\n",
              "        vertical-align: top;\n",
              "    }\n",
              "\n",
              "    .dataframe thead th {\n",
              "        text-align: right;\n",
              "    }\n",
              "</style>\n",
              "<table border=\"1\" class=\"dataframe\">\n",
              "  <thead>\n",
              "    <tr style=\"text-align: right;\">\n",
              "      <th></th>\n",
              "      <th>AggregationMethod</th>\n",
              "      <th>Date</th>\n",
              "      <th>Version</th>\n",
              "      <th>AirportName</th>\n",
              "      <th>PercentOfBaseline</th>\n",
              "      <th>Centroid</th>\n",
              "      <th>City</th>\n",
              "      <th>State</th>\n",
              "      <th>ISO_3166_2</th>\n",
              "      <th>Country</th>\n",
              "      <th>Geography</th>\n",
              "    </tr>\n",
              "  </thead>\n",
              "  <tbody>\n",
              "    <tr>\n",
              "      <th>0</th>\n",
              "      <td>Daily</td>\n",
              "      <td>2020-07-05</td>\n",
              "      <td>1.0</td>\n",
              "      <td>Kingsford Smith</td>\n",
              "      <td>52</td>\n",
              "      <td>POINT(151.180087713813 -33.9459774986125)</td>\n",
              "      <td>Sydney</td>\n",
              "      <td>New South Wales</td>\n",
              "      <td>AU</td>\n",
              "      <td>Australia</td>\n",
              "      <td>POLYGON((151.164354085922 -33.9301772341877, 1...</td>\n",
              "    </tr>\n",
              "    <tr>\n",
              "      <th>1</th>\n",
              "      <td>Daily</td>\n",
              "      <td>2020-05-28</td>\n",
              "      <td>1.0</td>\n",
              "      <td>Kingsford Smith</td>\n",
              "      <td>61</td>\n",
              "      <td>POINT(151.180087713813 -33.9459774986125)</td>\n",
              "      <td>Sydney</td>\n",
              "      <td>New South Wales</td>\n",
              "      <td>AU</td>\n",
              "      <td>Australia</td>\n",
              "      <td>POLYGON((151.164354085922 -33.9301772341877, 1...</td>\n",
              "    </tr>\n",
              "    <tr>\n",
              "      <th>2</th>\n",
              "      <td>Daily</td>\n",
              "      <td>2020-05-07</td>\n",
              "      <td>1.0</td>\n",
              "      <td>Kingsford Smith</td>\n",
              "      <td>62</td>\n",
              "      <td>POINT(151.180087713813 -33.9459774986125)</td>\n",
              "      <td>Sydney</td>\n",
              "      <td>New South Wales</td>\n",
              "      <td>AU</td>\n",
              "      <td>Australia</td>\n",
              "      <td>POLYGON((151.164354085922 -33.9301772341877, 1...</td>\n",
              "    </tr>\n",
              "    <tr>\n",
              "      <th>3</th>\n",
              "      <td>Daily</td>\n",
              "      <td>2020-06-24</td>\n",
              "      <td>1.0</td>\n",
              "      <td>Kingsford Smith</td>\n",
              "      <td>58</td>\n",
              "      <td>POINT(151.180087713813 -33.9459774986125)</td>\n",
              "      <td>Sydney</td>\n",
              "      <td>New South Wales</td>\n",
              "      <td>AU</td>\n",
              "      <td>Australia</td>\n",
              "      <td>POLYGON((151.164354085922 -33.9301772341877, 1...</td>\n",
              "    </tr>\n",
              "    <tr>\n",
              "      <th>4</th>\n",
              "      <td>Daily</td>\n",
              "      <td>2020-08-05</td>\n",
              "      <td>1.0</td>\n",
              "      <td>Kingsford Smith</td>\n",
              "      <td>20</td>\n",
              "      <td>POINT(151.180087713813 -33.9459774986125)</td>\n",
              "      <td>Sydney</td>\n",
              "      <td>New South Wales</td>\n",
              "      <td>AU</td>\n",
              "      <td>Australia</td>\n",
              "      <td>POLYGON((151.164354085922 -33.9301772341877, 1...</td>\n",
              "    </tr>\n",
              "    <tr>\n",
              "      <th>...</th>\n",
              "      <td>...</td>\n",
              "      <td>...</td>\n",
              "      <td>...</td>\n",
              "      <td>...</td>\n",
              "      <td>...</td>\n",
              "      <td>...</td>\n",
              "      <td>...</td>\n",
              "      <td>...</td>\n",
              "      <td>...</td>\n",
              "      <td>...</td>\n",
              "      <td>...</td>\n",
              "    </tr>\n",
              "    <tr>\n",
              "      <th>5931</th>\n",
              "      <td>Daily</td>\n",
              "      <td>2020-06-15</td>\n",
              "      <td>1.0</td>\n",
              "      <td>Seattle-Tacoma International</td>\n",
              "      <td>64</td>\n",
              "      <td>POINT(-122.308661576118 47.4505828917119)</td>\n",
              "      <td>SeaTac</td>\n",
              "      <td>Washington</td>\n",
              "      <td>US-WA</td>\n",
              "      <td>United States of America (the)</td>\n",
              "      <td>POLYGON((-122.297594547272 47.434474106872, -1...</td>\n",
              "    </tr>\n",
              "    <tr>\n",
              "      <th>5932</th>\n",
              "      <td>Daily</td>\n",
              "      <td>2020-10-15</td>\n",
              "      <td>1.0</td>\n",
              "      <td>Seattle-Tacoma International</td>\n",
              "      <td>74</td>\n",
              "      <td>POINT(-122.308661576118 47.4505828917119)</td>\n",
              "      <td>SeaTac</td>\n",
              "      <td>Washington</td>\n",
              "      <td>US-WA</td>\n",
              "      <td>United States of America (the)</td>\n",
              "      <td>POLYGON((-122.297594547272 47.434474106872, -1...</td>\n",
              "    </tr>\n",
              "    <tr>\n",
              "      <th>5933</th>\n",
              "      <td>Daily</td>\n",
              "      <td>2020-04-01</td>\n",
              "      <td>1.0</td>\n",
              "      <td>Seattle-Tacoma International</td>\n",
              "      <td>65</td>\n",
              "      <td>POINT(-122.308661576118 47.4505828917119)</td>\n",
              "      <td>SeaTac</td>\n",
              "      <td>Washington</td>\n",
              "      <td>US-WA</td>\n",
              "      <td>United States of America (the)</td>\n",
              "      <td>POLYGON((-122.297594547272 47.434474106872, -1...</td>\n",
              "    </tr>\n",
              "    <tr>\n",
              "      <th>5934</th>\n",
              "      <td>Daily</td>\n",
              "      <td>2020-05-12</td>\n",
              "      <td>1.0</td>\n",
              "      <td>Seattle-Tacoma International</td>\n",
              "      <td>65</td>\n",
              "      <td>POINT(-122.308661576118 47.4505828917119)</td>\n",
              "      <td>SeaTac</td>\n",
              "      <td>Washington</td>\n",
              "      <td>US-WA</td>\n",
              "      <td>United States of America (the)</td>\n",
              "      <td>POLYGON((-122.297594547272 47.434474106872, -1...</td>\n",
              "    </tr>\n",
              "    <tr>\n",
              "      <th>5935</th>\n",
              "      <td>Daily</td>\n",
              "      <td>2020-10-11</td>\n",
              "      <td>1.0</td>\n",
              "      <td>Seattle-Tacoma International</td>\n",
              "      <td>57</td>\n",
              "      <td>POINT(-122.308661576118 47.4505828917119)</td>\n",
              "      <td>SeaTac</td>\n",
              "      <td>Washington</td>\n",
              "      <td>US-WA</td>\n",
              "      <td>United States of America (the)</td>\n",
              "      <td>POLYGON((-122.297594547272 47.434474106872, -1...</td>\n",
              "    </tr>\n",
              "  </tbody>\n",
              "</table>\n",
              "<p>5936 rows × 11 columns</p>\n",
              "</div>"
            ],
            "text/plain": [
              "     AggregationMethod  ...                                          Geography\n",
              "0                Daily  ...  POLYGON((151.164354085922 -33.9301772341877, 1...\n",
              "1                Daily  ...  POLYGON((151.164354085922 -33.9301772341877, 1...\n",
              "2                Daily  ...  POLYGON((151.164354085922 -33.9301772341877, 1...\n",
              "3                Daily  ...  POLYGON((151.164354085922 -33.9301772341877, 1...\n",
              "4                Daily  ...  POLYGON((151.164354085922 -33.9301772341877, 1...\n",
              "...                ...  ...                                                ...\n",
              "5931             Daily  ...  POLYGON((-122.297594547272 47.434474106872, -1...\n",
              "5932             Daily  ...  POLYGON((-122.297594547272 47.434474106872, -1...\n",
              "5933             Daily  ...  POLYGON((-122.297594547272 47.434474106872, -1...\n",
              "5934             Daily  ...  POLYGON((-122.297594547272 47.434474106872, -1...\n",
              "5935             Daily  ...  POLYGON((-122.297594547272 47.434474106872, -1...\n",
              "\n",
              "[5936 rows x 11 columns]"
            ]
          },
          "metadata": {
            "tags": []
          },
          "execution_count": 4
        }
      ]
    },
    {
      "cell_type": "code",
      "metadata": {
        "colab": {
          "base_uri": "https://localhost:8080/",
          "height": 380
        },
        "id": "56pcLqdligzb",
        "outputId": "1bf766a4-cd38-4188-8d9c-1023bb83a77f"
      },
      "source": [
        "data.head()"
      ],
      "execution_count": null,
      "outputs": [
        {
          "output_type": "execute_result",
          "data": {
            "text/html": [
              "<div>\n",
              "<style scoped>\n",
              "    .dataframe tbody tr th:only-of-type {\n",
              "        vertical-align: middle;\n",
              "    }\n",
              "\n",
              "    .dataframe tbody tr th {\n",
              "        vertical-align: top;\n",
              "    }\n",
              "\n",
              "    .dataframe thead th {\n",
              "        text-align: right;\n",
              "    }\n",
              "</style>\n",
              "<table border=\"1\" class=\"dataframe\">\n",
              "  <thead>\n",
              "    <tr style=\"text-align: right;\">\n",
              "      <th></th>\n",
              "      <th>AggregationMethod</th>\n",
              "      <th>Date</th>\n",
              "      <th>Version</th>\n",
              "      <th>AirportName</th>\n",
              "      <th>PercentOfBaseline</th>\n",
              "      <th>Centroid</th>\n",
              "      <th>City</th>\n",
              "      <th>State</th>\n",
              "      <th>ISO_3166_2</th>\n",
              "      <th>Country</th>\n",
              "      <th>Geography</th>\n",
              "    </tr>\n",
              "  </thead>\n",
              "  <tbody>\n",
              "    <tr>\n",
              "      <th>0</th>\n",
              "      <td>Daily</td>\n",
              "      <td>2020-07-05</td>\n",
              "      <td>1.0</td>\n",
              "      <td>Kingsford Smith</td>\n",
              "      <td>52</td>\n",
              "      <td>POINT(151.180087713813 -33.9459774986125)</td>\n",
              "      <td>Sydney</td>\n",
              "      <td>New South Wales</td>\n",
              "      <td>AU</td>\n",
              "      <td>Australia</td>\n",
              "      <td>POLYGON((151.164354085922 -33.9301772341877, 1...</td>\n",
              "    </tr>\n",
              "    <tr>\n",
              "      <th>1</th>\n",
              "      <td>Daily</td>\n",
              "      <td>2020-05-28</td>\n",
              "      <td>1.0</td>\n",
              "      <td>Kingsford Smith</td>\n",
              "      <td>61</td>\n",
              "      <td>POINT(151.180087713813 -33.9459774986125)</td>\n",
              "      <td>Sydney</td>\n",
              "      <td>New South Wales</td>\n",
              "      <td>AU</td>\n",
              "      <td>Australia</td>\n",
              "      <td>POLYGON((151.164354085922 -33.9301772341877, 1...</td>\n",
              "    </tr>\n",
              "    <tr>\n",
              "      <th>2</th>\n",
              "      <td>Daily</td>\n",
              "      <td>2020-05-07</td>\n",
              "      <td>1.0</td>\n",
              "      <td>Kingsford Smith</td>\n",
              "      <td>62</td>\n",
              "      <td>POINT(151.180087713813 -33.9459774986125)</td>\n",
              "      <td>Sydney</td>\n",
              "      <td>New South Wales</td>\n",
              "      <td>AU</td>\n",
              "      <td>Australia</td>\n",
              "      <td>POLYGON((151.164354085922 -33.9301772341877, 1...</td>\n",
              "    </tr>\n",
              "    <tr>\n",
              "      <th>3</th>\n",
              "      <td>Daily</td>\n",
              "      <td>2020-06-24</td>\n",
              "      <td>1.0</td>\n",
              "      <td>Kingsford Smith</td>\n",
              "      <td>58</td>\n",
              "      <td>POINT(151.180087713813 -33.9459774986125)</td>\n",
              "      <td>Sydney</td>\n",
              "      <td>New South Wales</td>\n",
              "      <td>AU</td>\n",
              "      <td>Australia</td>\n",
              "      <td>POLYGON((151.164354085922 -33.9301772341877, 1...</td>\n",
              "    </tr>\n",
              "    <tr>\n",
              "      <th>4</th>\n",
              "      <td>Daily</td>\n",
              "      <td>2020-08-05</td>\n",
              "      <td>1.0</td>\n",
              "      <td>Kingsford Smith</td>\n",
              "      <td>20</td>\n",
              "      <td>POINT(151.180087713813 -33.9459774986125)</td>\n",
              "      <td>Sydney</td>\n",
              "      <td>New South Wales</td>\n",
              "      <td>AU</td>\n",
              "      <td>Australia</td>\n",
              "      <td>POLYGON((151.164354085922 -33.9301772341877, 1...</td>\n",
              "    </tr>\n",
              "  </tbody>\n",
              "</table>\n",
              "</div>"
            ],
            "text/plain": [
              "  AggregationMethod  ...                                          Geography\n",
              "0             Daily  ...  POLYGON((151.164354085922 -33.9301772341877, 1...\n",
              "1             Daily  ...  POLYGON((151.164354085922 -33.9301772341877, 1...\n",
              "2             Daily  ...  POLYGON((151.164354085922 -33.9301772341877, 1...\n",
              "3             Daily  ...  POLYGON((151.164354085922 -33.9301772341877, 1...\n",
              "4             Daily  ...  POLYGON((151.164354085922 -33.9301772341877, 1...\n",
              "\n",
              "[5 rows x 11 columns]"
            ]
          },
          "metadata": {
            "tags": []
          },
          "execution_count": 5
        }
      ]
    },
    {
      "cell_type": "code",
      "metadata": {
        "colab": {
          "base_uri": "https://localhost:8080/",
          "height": 467
        },
        "id": "MS7vPltwiqU1",
        "outputId": "59490eb0-199b-4d3f-ba1d-0c926e2d648e"
      },
      "source": [
        "data.tail()"
      ],
      "execution_count": null,
      "outputs": [
        {
          "output_type": "execute_result",
          "data": {
            "text/html": [
              "<div>\n",
              "<style scoped>\n",
              "    .dataframe tbody tr th:only-of-type {\n",
              "        vertical-align: middle;\n",
              "    }\n",
              "\n",
              "    .dataframe tbody tr th {\n",
              "        vertical-align: top;\n",
              "    }\n",
              "\n",
              "    .dataframe thead th {\n",
              "        text-align: right;\n",
              "    }\n",
              "</style>\n",
              "<table border=\"1\" class=\"dataframe\">\n",
              "  <thead>\n",
              "    <tr style=\"text-align: right;\">\n",
              "      <th></th>\n",
              "      <th>AggregationMethod</th>\n",
              "      <th>Date</th>\n",
              "      <th>Version</th>\n",
              "      <th>AirportName</th>\n",
              "      <th>PercentOfBaseline</th>\n",
              "      <th>Centroid</th>\n",
              "      <th>City</th>\n",
              "      <th>State</th>\n",
              "      <th>ISO_3166_2</th>\n",
              "      <th>Country</th>\n",
              "      <th>Geography</th>\n",
              "    </tr>\n",
              "  </thead>\n",
              "  <tbody>\n",
              "    <tr>\n",
              "      <th>5931</th>\n",
              "      <td>Daily</td>\n",
              "      <td>2020-06-15</td>\n",
              "      <td>1.0</td>\n",
              "      <td>Seattle-Tacoma International</td>\n",
              "      <td>64</td>\n",
              "      <td>POINT(-122.308661576118 47.4505828917119)</td>\n",
              "      <td>SeaTac</td>\n",
              "      <td>Washington</td>\n",
              "      <td>US-WA</td>\n",
              "      <td>United States of America (the)</td>\n",
              "      <td>POLYGON((-122.297594547272 47.434474106872, -1...</td>\n",
              "    </tr>\n",
              "    <tr>\n",
              "      <th>5932</th>\n",
              "      <td>Daily</td>\n",
              "      <td>2020-10-15</td>\n",
              "      <td>1.0</td>\n",
              "      <td>Seattle-Tacoma International</td>\n",
              "      <td>74</td>\n",
              "      <td>POINT(-122.308661576118 47.4505828917119)</td>\n",
              "      <td>SeaTac</td>\n",
              "      <td>Washington</td>\n",
              "      <td>US-WA</td>\n",
              "      <td>United States of America (the)</td>\n",
              "      <td>POLYGON((-122.297594547272 47.434474106872, -1...</td>\n",
              "    </tr>\n",
              "    <tr>\n",
              "      <th>5933</th>\n",
              "      <td>Daily</td>\n",
              "      <td>2020-04-01</td>\n",
              "      <td>1.0</td>\n",
              "      <td>Seattle-Tacoma International</td>\n",
              "      <td>65</td>\n",
              "      <td>POINT(-122.308661576118 47.4505828917119)</td>\n",
              "      <td>SeaTac</td>\n",
              "      <td>Washington</td>\n",
              "      <td>US-WA</td>\n",
              "      <td>United States of America (the)</td>\n",
              "      <td>POLYGON((-122.297594547272 47.434474106872, -1...</td>\n",
              "    </tr>\n",
              "    <tr>\n",
              "      <th>5934</th>\n",
              "      <td>Daily</td>\n",
              "      <td>2020-05-12</td>\n",
              "      <td>1.0</td>\n",
              "      <td>Seattle-Tacoma International</td>\n",
              "      <td>65</td>\n",
              "      <td>POINT(-122.308661576118 47.4505828917119)</td>\n",
              "      <td>SeaTac</td>\n",
              "      <td>Washington</td>\n",
              "      <td>US-WA</td>\n",
              "      <td>United States of America (the)</td>\n",
              "      <td>POLYGON((-122.297594547272 47.434474106872, -1...</td>\n",
              "    </tr>\n",
              "    <tr>\n",
              "      <th>5935</th>\n",
              "      <td>Daily</td>\n",
              "      <td>2020-10-11</td>\n",
              "      <td>1.0</td>\n",
              "      <td>Seattle-Tacoma International</td>\n",
              "      <td>57</td>\n",
              "      <td>POINT(-122.308661576118 47.4505828917119)</td>\n",
              "      <td>SeaTac</td>\n",
              "      <td>Washington</td>\n",
              "      <td>US-WA</td>\n",
              "      <td>United States of America (the)</td>\n",
              "      <td>POLYGON((-122.297594547272 47.434474106872, -1...</td>\n",
              "    </tr>\n",
              "  </tbody>\n",
              "</table>\n",
              "</div>"
            ],
            "text/plain": [
              "     AggregationMethod  ...                                          Geography\n",
              "5931             Daily  ...  POLYGON((-122.297594547272 47.434474106872, -1...\n",
              "5932             Daily  ...  POLYGON((-122.297594547272 47.434474106872, -1...\n",
              "5933             Daily  ...  POLYGON((-122.297594547272 47.434474106872, -1...\n",
              "5934             Daily  ...  POLYGON((-122.297594547272 47.434474106872, -1...\n",
              "5935             Daily  ...  POLYGON((-122.297594547272 47.434474106872, -1...\n",
              "\n",
              "[5 rows x 11 columns]"
            ]
          },
          "metadata": {
            "tags": []
          },
          "execution_count": 6
        }
      ]
    },
    {
      "cell_type": "code",
      "metadata": {
        "colab": {
          "base_uri": "https://localhost:8080/",
          "height": 467
        },
        "id": "e8L8_NTtitkE",
        "outputId": "82eaf262-7bbd-4c98-8248-6f1d18e70d8d"
      },
      "source": [
        "data.tail()"
      ],
      "execution_count": null,
      "outputs": [
        {
          "output_type": "execute_result",
          "data": {
            "text/html": [
              "<div>\n",
              "<style scoped>\n",
              "    .dataframe tbody tr th:only-of-type {\n",
              "        vertical-align: middle;\n",
              "    }\n",
              "\n",
              "    .dataframe tbody tr th {\n",
              "        vertical-align: top;\n",
              "    }\n",
              "\n",
              "    .dataframe thead th {\n",
              "        text-align: right;\n",
              "    }\n",
              "</style>\n",
              "<table border=\"1\" class=\"dataframe\">\n",
              "  <thead>\n",
              "    <tr style=\"text-align: right;\">\n",
              "      <th></th>\n",
              "      <th>AggregationMethod</th>\n",
              "      <th>Date</th>\n",
              "      <th>Version</th>\n",
              "      <th>AirportName</th>\n",
              "      <th>PercentOfBaseline</th>\n",
              "      <th>Centroid</th>\n",
              "      <th>City</th>\n",
              "      <th>State</th>\n",
              "      <th>ISO_3166_2</th>\n",
              "      <th>Country</th>\n",
              "      <th>Geography</th>\n",
              "    </tr>\n",
              "  </thead>\n",
              "  <tbody>\n",
              "    <tr>\n",
              "      <th>5931</th>\n",
              "      <td>Daily</td>\n",
              "      <td>2020-06-15</td>\n",
              "      <td>1.0</td>\n",
              "      <td>Seattle-Tacoma International</td>\n",
              "      <td>64</td>\n",
              "      <td>POINT(-122.308661576118 47.4505828917119)</td>\n",
              "      <td>SeaTac</td>\n",
              "      <td>Washington</td>\n",
              "      <td>US-WA</td>\n",
              "      <td>United States of America (the)</td>\n",
              "      <td>POLYGON((-122.297594547272 47.434474106872, -1...</td>\n",
              "    </tr>\n",
              "    <tr>\n",
              "      <th>5932</th>\n",
              "      <td>Daily</td>\n",
              "      <td>2020-10-15</td>\n",
              "      <td>1.0</td>\n",
              "      <td>Seattle-Tacoma International</td>\n",
              "      <td>74</td>\n",
              "      <td>POINT(-122.308661576118 47.4505828917119)</td>\n",
              "      <td>SeaTac</td>\n",
              "      <td>Washington</td>\n",
              "      <td>US-WA</td>\n",
              "      <td>United States of America (the)</td>\n",
              "      <td>POLYGON((-122.297594547272 47.434474106872, -1...</td>\n",
              "    </tr>\n",
              "    <tr>\n",
              "      <th>5933</th>\n",
              "      <td>Daily</td>\n",
              "      <td>2020-04-01</td>\n",
              "      <td>1.0</td>\n",
              "      <td>Seattle-Tacoma International</td>\n",
              "      <td>65</td>\n",
              "      <td>POINT(-122.308661576118 47.4505828917119)</td>\n",
              "      <td>SeaTac</td>\n",
              "      <td>Washington</td>\n",
              "      <td>US-WA</td>\n",
              "      <td>United States of America (the)</td>\n",
              "      <td>POLYGON((-122.297594547272 47.434474106872, -1...</td>\n",
              "    </tr>\n",
              "    <tr>\n",
              "      <th>5934</th>\n",
              "      <td>Daily</td>\n",
              "      <td>2020-05-12</td>\n",
              "      <td>1.0</td>\n",
              "      <td>Seattle-Tacoma International</td>\n",
              "      <td>65</td>\n",
              "      <td>POINT(-122.308661576118 47.4505828917119)</td>\n",
              "      <td>SeaTac</td>\n",
              "      <td>Washington</td>\n",
              "      <td>US-WA</td>\n",
              "      <td>United States of America (the)</td>\n",
              "      <td>POLYGON((-122.297594547272 47.434474106872, -1...</td>\n",
              "    </tr>\n",
              "    <tr>\n",
              "      <th>5935</th>\n",
              "      <td>Daily</td>\n",
              "      <td>2020-10-11</td>\n",
              "      <td>1.0</td>\n",
              "      <td>Seattle-Tacoma International</td>\n",
              "      <td>57</td>\n",
              "      <td>POINT(-122.308661576118 47.4505828917119)</td>\n",
              "      <td>SeaTac</td>\n",
              "      <td>Washington</td>\n",
              "      <td>US-WA</td>\n",
              "      <td>United States of America (the)</td>\n",
              "      <td>POLYGON((-122.297594547272 47.434474106872, -1...</td>\n",
              "    </tr>\n",
              "  </tbody>\n",
              "</table>\n",
              "</div>"
            ],
            "text/plain": [
              "     AggregationMethod  ...                                          Geography\n",
              "5931             Daily  ...  POLYGON((-122.297594547272 47.434474106872, -1...\n",
              "5932             Daily  ...  POLYGON((-122.297594547272 47.434474106872, -1...\n",
              "5933             Daily  ...  POLYGON((-122.297594547272 47.434474106872, -1...\n",
              "5934             Daily  ...  POLYGON((-122.297594547272 47.434474106872, -1...\n",
              "5935             Daily  ...  POLYGON((-122.297594547272 47.434474106872, -1...\n",
              "\n",
              "[5 rows x 11 columns]"
            ]
          },
          "metadata": {
            "tags": []
          },
          "execution_count": 7
        }
      ]
    },
    {
      "cell_type": "code",
      "metadata": {
        "colab": {
          "base_uri": "https://localhost:8080/"
        },
        "id": "QTvK7KVji0KI",
        "outputId": "2ee03178-0423-44be-b1ee-0ffb2b531136"
      },
      "source": [
        "data.shape"
      ],
      "execution_count": null,
      "outputs": [
        {
          "output_type": "execute_result",
          "data": {
            "text/plain": [
              "(5936, 11)"
            ]
          },
          "metadata": {
            "tags": []
          },
          "execution_count": 8
        }
      ]
    },
    {
      "cell_type": "code",
      "metadata": {
        "colab": {
          "base_uri": "https://localhost:8080/",
          "height": 279
        },
        "id": "VvuhorH-kPSU",
        "outputId": "c6cce35d-d3c5-41aa-e0d2-677aea7e161e"
      },
      "source": [
        "plt.scatter(data['Date'],data['PercentOfBaseline'],c='red')\n",
        "plt.xlabel('Date')\n",
        "plt.ylabel('PercentOfBaseline')\n",
        "plt.show()"
      ],
      "execution_count": null,
      "outputs": [
        {
          "output_type": "display_data",
          "data": {
            "image/png": "[encoded data removed]",
            "text/plain": [
              "<Figure size 432x288 with 1 Axes>"
            ]
          },
          "metadata": {
            "tags": [],
            "needs_background": "light"
          }
        }
      ]
    },
    {
      "cell_type": "code",
      "metadata": {
        "colab": {
          "base_uri": "https://localhost:8080/",
          "height": 265
        },
        "id": "XH9h_pgskV6A",
        "outputId": "a06a9e0a-f370-479b-b59f-8def63e2b343"
      },
      "source": [
        "plt.hist(data['PercentOfBaseline'])\n",
        "plt.show()"
      ],
      "execution_count": null,
      "outputs": [
        {
          "output_type": "display_data",
          "data": {
            "image/png": "[encoded data removed]",
            "text/plain": [
              "<Figure size 432x288 with 1 Axes>"
            ]
          },
          "metadata": {
            "tags": [],
            "needs_background": "light"
          }
        }
      ]
    },
    {
      "cell_type": "code",
      "metadata": {
        "colab": {
          "base_uri": "https://localhost:8080/",
          "height": 339
        },
        "id": "18oMW7fck03Q",
        "outputId": "65957eca-40f2-4d62-e14b-6aa35d79925a"
      },
      "source": [
        "plt.hist(data['PercentOfBaseline'])"
      ],
      "execution_count": null,
      "outputs": [
        {
          "output_type": "execute_result",
          "data": {
            "text/plain": [
              "(array([  17.,  158.,  234.,  346.,  551.,  925., 1139.,  912.,  663.,\n",
              "         991.]),\n",
              " array([  0.,  10.,  20.,  30.,  40.,  50.,  60.,  70.,  80.,  90., 100.]),\n",
              " <a list of 10 Patch objects>)"
            ]
          },
          "metadata": {
            "tags": []
          },
          "execution_count": 12
        },
        {
          "output_type": "display_data",
          "data": {
            "image/png": "[encoded data removed]",
            "text/plain": [
              "<Figure size 432x288 with 1 Axes>"
            ]
          },
          "metadata": {
            "tags": [],
            "needs_background": "light"
          }
        }
      ]
    },
    {
      "cell_type": "code",
      "metadata": {
        "colab": {
          "base_uri": "https://localhost:8080/",
          "height": 279
        },
        "id": "AXrbDEjbk88U",
        "outputId": "da275f45-7d8b-459f-e276-531cfe469809"
      },
      "source": [
        "plt.hist(data['PercentOfBaseline'],color='orange',edgecolor='white',bins=5)\n",
        "plt.title=(\"Histogram of baseline percent in percentage\")\n",
        "plt.xlabel(\"frequencies\")\n",
        "plt.ylabel(\"Baseline Percentage\")\n",
        "plt.show()"
      ],
      "execution_count": null,
      "outputs": [
        {
          "output_type": "display_data",
          "data": {
            "image/png": "[encoded data removed]",
            "text/plain": [
              "<Figure size 432x288 with 1 Axes>"
            ]
          },
          "metadata": {
            "tags": [],
            "needs_background": "light"
          }
        }
      ]
    },
    {
      "cell_type": "code",
      "metadata": {
        "id": "eI6hpVpimkUg"
      },
      "source": [
        "import seaborn as sns"
      ],
      "execution_count": null,
      "outputs": []
    },
    {
      "cell_type": "code",
      "metadata": {
        "colab": {
          "base_uri": "https://localhost:8080/",
          "height": 634
        },
        "id": "mVuRIzDPm1yZ",
        "outputId": "9fd59a02-4628-45bb-c5e3-37daf2149cc8"
      },
      "source": [
        "sns.set(style='darkgrid')\n",
        "sns.regplot(x=data['Date'],y=data['PercentOfBaseline'])"
      ],
      "execution_count": null,
      "outputs": [
        {
          "output_type": "error",
          "ename": "UFuncTypeError",
          "evalue": "ignored",
          "traceback": [
            "\u001b[0;31m---------------------------------------------------------------------------\u001b[0m",
            "\u001b[0;31mUFuncTypeError\u001b[0m                            Traceback (most recent call last)",
            "\u001b[0;32m<ipython-input-19-9609207aabbd>\u001b[0m in \u001b[0;36m<module>\u001b[0;34m()\u001b[0m\n\u001b[1;32m      1\u001b[0m \u001b[0msns\u001b[0m\u001b[0;34m.\u001b[0m\u001b[0mset\u001b[0m\u001b[0;34m(\u001b[0m\u001b[0mstyle\u001b[0m\u001b[0;34m=\u001b[0m\u001b[0;34m'darkgrid'\u001b[0m\u001b[0;34m)\u001b[0m\u001b[0;34m\u001b[0m\u001b[0;34m\u001b[0m\u001b[0m\n\u001b[0;32m----> 2\u001b[0;31m \u001b[0msns\u001b[0m\u001b[0;34m.\u001b[0m\u001b[0mregplot\u001b[0m\u001b[0;34m(\u001b[0m\u001b[0mx\u001b[0m\u001b[0;34m=\u001b[0m\u001b[0mdata\u001b[0m\u001b[0;34m[\u001b[0m\u001b[0;34m'Date'\u001b[0m\u001b[0;34m]\u001b[0m\u001b[0;34m,\u001b[0m\u001b[0my\u001b[0m\u001b[0;34m=\u001b[0m\u001b[0mdata\u001b[0m\u001b[0;34m[\u001b[0m\u001b[0;34m'PercentOfBaseline'\u001b[0m\u001b[0;34m]\u001b[0m\u001b[0;34m)\u001b[0m\u001b[0;34m\u001b[0m\u001b[0;34m\u001b[0m\u001b[0m\n\u001b[0m",
            "\u001b[0;32m/usr/local/lib/python3.6/dist-packages/seaborn/_decorators.py\u001b[0m in \u001b[0;36minner_f\u001b[0;34m(*args, **kwargs)\u001b[0m\n\u001b[1;32m     44\u001b[0m             )\n\u001b[1;32m     45\u001b[0m         \u001b[0mkwargs\u001b[0m\u001b[0;34m.\u001b[0m\u001b[0mupdate\u001b[0m\u001b[0;34m(\u001b[0m\u001b[0;34m{\u001b[0m\u001b[0mk\u001b[0m\u001b[0;34m:\u001b[0m \u001b[0marg\u001b[0m \u001b[0;32mfor\u001b[0m \u001b[0mk\u001b[0m\u001b[0;34m,\u001b[0m \u001b[0marg\u001b[0m \u001b[0;32min\u001b[0m \u001b[0mzip\u001b[0m\u001b[0;34m(\u001b[0m\u001b[0msig\u001b[0m\u001b[0;34m.\u001b[0m\u001b[0mparameters\u001b[0m\u001b[0;34m,\u001b[0m \u001b[0margs\u001b[0m\u001b[0;34m)\u001b[0m\u001b[0;34m}\u001b[0m\u001b[0;34m)\u001b[0m\u001b[0;34m\u001b[0m\u001b[0;34m\u001b[0m\u001b[0m\n\u001b[0;32m---> 46\u001b[0;31m         \u001b[0;32mreturn\u001b[0m \u001b[0mf\u001b[0m\u001b[0;34m(\u001b[0m\u001b[0;34m**\u001b[0m\u001b[0mkwargs\u001b[0m\u001b[0;34m)\u001b[0m\u001b[0;34m\u001b[0m\u001b[0;34m\u001b[0m\u001b[0m\n\u001b[0m\u001b[1;32m     47\u001b[0m     \u001b[0;32mreturn\u001b[0m \u001b[0minner_f\u001b[0m\u001b[0;34m\u001b[0m\u001b[0;34m\u001b[0m\u001b[0m\n\u001b[1;32m     48\u001b[0m \u001b[0;34m\u001b[0m\u001b[0m\n",
            "\u001b[0;32m/usr/local/lib/python3.6/dist-packages/seaborn/regression.py\u001b[0m in \u001b[0;36mregplot\u001b[0;34m(x, y, data, x_estimator, x_bins, x_ci, scatter, fit_reg, ci, n_boot, units, seed, order, logistic, lowess, robust, logx, x_partial, y_partial, truncate, dropna, x_jitter, y_jitter, label, color, marker, scatter_kws, line_kws, ax)\u001b[0m\n\u001b[1;32m    833\u001b[0m     \u001b[0mscatter_kws\u001b[0m\u001b[0;34m[\u001b[0m\u001b[0;34m\"marker\"\u001b[0m\u001b[0;34m]\u001b[0m \u001b[0;34m=\u001b[0m \u001b[0mmarker\u001b[0m\u001b[0;34m\u001b[0m\u001b[0;34m\u001b[0m\u001b[0m\n\u001b[1;32m    834\u001b[0m     \u001b[0mline_kws\u001b[0m \u001b[0;34m=\u001b[0m \u001b[0;34m{\u001b[0m\u001b[0;34m}\u001b[0m \u001b[0;32mif\u001b[0m \u001b[0mline_kws\u001b[0m \u001b[0;32mis\u001b[0m \u001b[0;32mNone\u001b[0m \u001b[0;32melse\u001b[0m \u001b[0mcopy\u001b[0m\u001b[0;34m.\u001b[0m\u001b[0mcopy\u001b[0m\u001b[0;34m(\u001b[0m\u001b[0mline_kws\u001b[0m\u001b[0;34m)\u001b[0m\u001b[0;34m\u001b[0m\u001b[0;34m\u001b[0m\u001b[0m\n\u001b[0;32m--> 835\u001b[0;31m     \u001b[0mplotter\u001b[0m\u001b[0;34m.\u001b[0m\u001b[0mplot\u001b[0m\u001b[0;34m(\u001b[0m\u001b[0max\u001b[0m\u001b[0;34m,\u001b[0m \u001b[0mscatter_kws\u001b[0m\u001b[0;34m,\u001b[0m \u001b[0mline_kws\u001b[0m\u001b[0;34m)\u001b[0m\u001b[0;34m\u001b[0m\u001b[0;34m\u001b[0m\u001b[0m\n\u001b[0m\u001b[1;32m    836\u001b[0m     \u001b[0;32mreturn\u001b[0m \u001b[0max\u001b[0m\u001b[0;34m\u001b[0m\u001b[0;34m\u001b[0m\u001b[0m\n\u001b[1;32m    837\u001b[0m \u001b[0;34m\u001b[0m\u001b[0m\n",
            "\u001b[0;32m/usr/local/lib/python3.6/dist-packages/seaborn/regression.py\u001b[0m in \u001b[0;36mplot\u001b[0;34m(self, ax, scatter_kws, line_kws)\u001b[0m\n\u001b[1;32m    368\u001b[0m \u001b[0;34m\u001b[0m\u001b[0m\n\u001b[1;32m    369\u001b[0m         \u001b[0;32mif\u001b[0m \u001b[0mself\u001b[0m\u001b[0;34m.\u001b[0m\u001b[0mfit_reg\u001b[0m\u001b[0;34m:\u001b[0m\u001b[0;34m\u001b[0m\u001b[0;34m\u001b[0m\u001b[0m\n\u001b[0;32m--> 370\u001b[0;31m             \u001b[0mself\u001b[0m\u001b[0;34m.\u001b[0m\u001b[0mlineplot\u001b[0m\u001b[0;34m(\u001b[0m\u001b[0max\u001b[0m\u001b[0;34m,\u001b[0m \u001b[0mline_kws\u001b[0m\u001b[0;34m)\u001b[0m\u001b[0;34m\u001b[0m\u001b[0;34m\u001b[0m\u001b[0m\n\u001b[0m\u001b[1;32m    371\u001b[0m \u001b[0;34m\u001b[0m\u001b[0m\n\u001b[1;32m    372\u001b[0m         \u001b[0;31m# Label the axes\u001b[0m\u001b[0;34m\u001b[0m\u001b[0;34m\u001b[0m\u001b[0;34m\u001b[0m\u001b[0m\n",
            "\u001b[0;32m/usr/local/lib/python3.6/dist-packages/seaborn/regression.py\u001b[0m in \u001b[0;36mlineplot\u001b[0;34m(self, ax, kws)\u001b[0m\n\u001b[1;32m    411\u001b[0m         \u001b[0;34m\"\"\"Draw the model.\"\"\"\u001b[0m\u001b[0;34m\u001b[0m\u001b[0;34m\u001b[0m\u001b[0m\n\u001b[1;32m    412\u001b[0m         \u001b[0;31m# Fit the regression model\u001b[0m\u001b[0;34m\u001b[0m\u001b[0;34m\u001b[0m\u001b[0;34m\u001b[0m\u001b[0m\n\u001b[0;32m--> 413\u001b[0;31m         \u001b[0mgrid\u001b[0m\u001b[0;34m,\u001b[0m \u001b[0myhat\u001b[0m\u001b[0;34m,\u001b[0m \u001b[0merr_bands\u001b[0m \u001b[0;34m=\u001b[0m \u001b[0mself\u001b[0m\u001b[0;34m.\u001b[0m\u001b[0mfit_regression\u001b[0m\u001b[0;34m(\u001b[0m\u001b[0max\u001b[0m\u001b[0;34m)\u001b[0m\u001b[0;34m\u001b[0m\u001b[0;34m\u001b[0m\u001b[0m\n\u001b[0m\u001b[1;32m    414\u001b[0m         \u001b[0medges\u001b[0m \u001b[0;34m=\u001b[0m \u001b[0mgrid\u001b[0m\u001b[0;34m[\u001b[0m\u001b[0;36m0\u001b[0m\u001b[0;34m]\u001b[0m\u001b[0;34m,\u001b[0m \u001b[0mgrid\u001b[0m\u001b[0;34m[\u001b[0m\u001b[0;34m-\u001b[0m\u001b[0;36m1\u001b[0m\u001b[0;34m]\u001b[0m\u001b[0;34m\u001b[0m\u001b[0;34m\u001b[0m\u001b[0m\n\u001b[1;32m    415\u001b[0m \u001b[0;34m\u001b[0m\u001b[0m\n",
            "\u001b[0;32m/usr/local/lib/python3.6/dist-packages/seaborn/regression.py\u001b[0m in \u001b[0;36mfit_regression\u001b[0;34m(self, ax, x_range, grid)\u001b[0m\n\u001b[1;32m    199\u001b[0m                 \u001b[0;32melse\u001b[0m\u001b[0;34m:\u001b[0m\u001b[0;34m\u001b[0m\u001b[0;34m\u001b[0m\u001b[0m\n\u001b[1;32m    200\u001b[0m                     \u001b[0mx_min\u001b[0m\u001b[0;34m,\u001b[0m \u001b[0mx_max\u001b[0m \u001b[0;34m=\u001b[0m \u001b[0max\u001b[0m\u001b[0;34m.\u001b[0m\u001b[0mget_xlim\u001b[0m\u001b[0;34m(\u001b[0m\u001b[0;34m)\u001b[0m\u001b[0;34m\u001b[0m\u001b[0;34m\u001b[0m\u001b[0m\n\u001b[0;32m--> 201\u001b[0;31m             \u001b[0mgrid\u001b[0m \u001b[0;34m=\u001b[0m \u001b[0mnp\u001b[0m\u001b[0;34m.\u001b[0m\u001b[0mlinspace\u001b[0m\u001b[0;34m(\u001b[0m\u001b[0mx_min\u001b[0m\u001b[0;34m,\u001b[0m \u001b[0mx_max\u001b[0m\u001b[0;34m,\u001b[0m \u001b[0;36m100\u001b[0m\u001b[0;34m)\u001b[0m\u001b[0;34m\u001b[0m\u001b[0;34m\u001b[0m\u001b[0m\n\u001b[0m\u001b[1;32m    202\u001b[0m         \u001b[0mci\u001b[0m \u001b[0;34m=\u001b[0m \u001b[0mself\u001b[0m\u001b[0;34m.\u001b[0m\u001b[0mci\u001b[0m\u001b[0;34m\u001b[0m\u001b[0;34m\u001b[0m\u001b[0m\n\u001b[1;32m    203\u001b[0m \u001b[0;34m\u001b[0m\u001b[0m\n",
            "\u001b[0;32m<__array_function__ internals>\u001b[0m in \u001b[0;36mlinspace\u001b[0;34m(*args, **kwargs)\u001b[0m\n",
            "\u001b[0;32m/usr/local/lib/python3.6/dist-packages/numpy/core/function_base.py\u001b[0m in \u001b[0;36mlinspace\u001b[0;34m(start, stop, num, endpoint, retstep, dtype, axis)\u001b[0m\n\u001b[1;32m    127\u001b[0m     \u001b[0;31m# Convert float/complex array scalars to float, gh-3504\u001b[0m\u001b[0;34m\u001b[0m\u001b[0;34m\u001b[0m\u001b[0;34m\u001b[0m\u001b[0m\n\u001b[1;32m    128\u001b[0m     \u001b[0;31m# and make sure one can use variables that have an __array_interface__, gh-6634\u001b[0m\u001b[0;34m\u001b[0m\u001b[0;34m\u001b[0m\u001b[0;34m\u001b[0m\u001b[0m\n\u001b[0;32m--> 129\u001b[0;31m     \u001b[0mstart\u001b[0m \u001b[0;34m=\u001b[0m \u001b[0masanyarray\u001b[0m\u001b[0;34m(\u001b[0m\u001b[0mstart\u001b[0m\u001b[0;34m)\u001b[0m \u001b[0;34m*\u001b[0m \u001b[0;36m1.0\u001b[0m\u001b[0;34m\u001b[0m\u001b[0;34m\u001b[0m\u001b[0m\n\u001b[0m\u001b[1;32m    130\u001b[0m     \u001b[0mstop\u001b[0m  \u001b[0;34m=\u001b[0m \u001b[0masanyarray\u001b[0m\u001b[0;34m(\u001b[0m\u001b[0mstop\u001b[0m\u001b[0;34m)\u001b[0m  \u001b[0;34m*\u001b[0m \u001b[0;36m1.0\u001b[0m\u001b[0;34m\u001b[0m\u001b[0;34m\u001b[0m\u001b[0m\n\u001b[1;32m    131\u001b[0m \u001b[0;34m\u001b[0m\u001b[0m\n",
            "\u001b[0;31mUFuncTypeError\u001b[0m: ufunc 'multiply' did not contain a loop with signature matching types (dtype('<U32'), dtype('<U32')) -> dtype('<U32')"
          ]
        },
        {
          "output_type": "display_data",
          "data": {
            "image/png": "[encoded data removed]",
            "text/plain": [
              "<Figure size 432x288 with 1 Axes>"
            ]
          },
          "metadata": {
            "tags": []
          }
        }
      ]
    },
    {
      "cell_type": "code",
      "metadata": {
        "colab": {
          "base_uri": "https://localhost:8080/",
          "height": 361
        },
        "id": "uDaEHVR4nJRo",
        "outputId": "9e350a42-ab00-4e37-c81c-c8f85145095f"
      },
      "source": [
        "sns.distplot(data['PercentOfBaseline'])"
      ],
      "execution_count": null,
      "outputs": [
        {
          "output_type": "stream",
          "text": [
            "/usr/local/lib/python3.6/dist-packages/seaborn/distributions.py:2551: FutureWarning: `distplot` is a deprecated function and will be removed in a future version. Please adapt your code to use either `displot` (a figure-level function with similar flexibility) or `histplot` (an axes-level function for histograms).\n",
            "  warnings.warn(msg, FutureWarning)\n"
          ],
          "name": "stderr"
        },
        {
          "output_type": "execute_result",
          "data": {
            "text/plain": [
              "<matplotlib.axes._subplots.AxesSubplot at 0x7fa3dd12e470>"
            ]
          },
          "metadata": {
            "tags": []
          },
          "execution_count": 20
        },
        {
          "output_type": "display_data",
          "data": {
            "image/png": "[encoded data removed]",
            "text/plain": [
              "<Figure size 432x288 with 1 Axes>"
            ]
          },
          "metadata": {
            "tags": []
          }
        }
      ]
    },
    {
      "cell_type": "code",
      "metadata": {
        "id": "JzPP38iLo6E2"
      },
      "source": [
        ""
      ],
      "execution_count": null,
      "outputs": []
    }
  ]
}